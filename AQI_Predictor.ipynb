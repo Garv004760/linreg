{
  "nbformat": 4,
  "nbformat_minor": 0,
  "metadata": {
    "colab": {
      "provenance": [],
      "authorship_tag": "ABX9TyNQlmYHiohPbLEOEOq2GZhw",
      "include_colab_link": true
    },
    "kernelspec": {
      "name": "python3",
      "display_name": "Python 3"
    },
    "language_info": {
      "name": "python"
    }
  },
  "cells": [
    {
      "cell_type": "markdown",
      "metadata": {
        "id": "view-in-github",
        "colab_type": "text"
      },
      "source": [
        "<a href=\"https://colab.research.google.com/github/Garv004760/linreg/blob/main/AQI_Predictor.ipynb\" target=\"_parent\"><img src=\"https://colab.research.google.com/assets/colab-badge.svg\" alt=\"Open In Colab\"/></a>"
      ]
    },
    {
      "cell_type": "code",
      "execution_count": 1,
      "metadata": {
        "colab": {
          "base_uri": "https://localhost:8080/"
        },
        "id": "Yd-_5FFl-N4f",
        "outputId": "362157f4-8f9d-430f-821c-2171f63a8b01"
      },
      "outputs": [
        {
          "output_type": "stream",
          "name": "stdout",
          "text": [
            "Mounted at /content/drive\n"
          ]
        }
      ],
      "source": [
        "from google.colab import drive\n",
        "drive.mount('/content/drive')\n"
      ]
    },
    {
      "cell_type": "code",
      "source": [
        "import pandas as pd\n",
        "import numpy as np\n",
        "import matplotlib.pyplot as plt\n",
        "import seaborn as sns\n",
        "from sklearn.model_selection import train_test_split, GridSearchCV\n",
        "from sklearn.preprocessing import StandardScaler, PolynomialFeatures\n",
        "from sklearn.linear_model import LinearRegression, Ridge\n",
        "from sklearn.ensemble import RandomForestRegressor, GradientBoostingRegressor\n",
        "from sklearn.metrics import mean_absolute_error, mean_squared_error, r2_score\n"
      ],
      "metadata": {
        "id": "FkOlsBzu-pog"
      },
      "execution_count": 24,
      "outputs": []
    },
    {
      "cell_type": "code",
      "source": [
        "file_path = \"/content/drive/My Drive/AQI_Data.csv\"\n",
        "df = pd.read_csv(file_path)"
      ],
      "metadata": {
        "id": "-F4dVlNA-sdt"
      },
      "execution_count": 3,
      "outputs": []
    },
    {
      "cell_type": "code",
      "source": [
        "print(\"Column Names:\", df.columns)\n",
        "print(df.head())\n",
        "print(\"\\nDataset Info:\")\n",
        "print(df.info())\n",
        "print(\"\\nMissing Values:\")\n",
        "print(df.isnull().sum())\n",
        "print(\"\\nDataset Summary:\")\n",
        "print(df.describe())"
      ],
      "metadata": {
        "colab": {
          "base_uri": "https://localhost:8080/"
        },
        "id": "Xx0y7U7J-zUF",
        "outputId": "fc7894e2-1028-4f48-af4b-9452d2baa593"
      },
      "execution_count": 4,
      "outputs": [
        {
          "output_type": "stream",
          "name": "stdout",
          "text": [
            "Column Names: Index(['T', 'TM', 'Tm', 'SLP', 'H', 'VV', 'V', 'VM', 'PM 2.5'], dtype='object')\n",
            "      T    TM   Tm     SLP     H   VV    V    VM      PM 2.5\n",
            "0   7.4   9.8  4.8  1017.6  93.0  0.5  4.3   9.4  219.720833\n",
            "1   7.8  12.7  4.4  1018.5  87.0  0.6  4.4  11.1  182.187500\n",
            "2   6.7  13.4  2.4  1019.4  82.0  0.6  4.8  11.1  154.037500\n",
            "3   8.6  15.5  3.3  1018.7  72.0  0.8  8.1  20.6  223.208333\n",
            "4  12.4  20.9  4.4  1017.3  61.0  1.3  8.7  22.2  200.645833\n",
            "\n",
            "Dataset Info:\n",
            "<class 'pandas.core.frame.DataFrame'>\n",
            "RangeIndex: 1093 entries, 0 to 1092\n",
            "Data columns (total 9 columns):\n",
            " #   Column  Non-Null Count  Dtype  \n",
            "---  ------  --------------  -----  \n",
            " 0   T       1093 non-null   float64\n",
            " 1   TM      1093 non-null   float64\n",
            " 2   Tm      1093 non-null   float64\n",
            " 3   SLP     1093 non-null   float64\n",
            " 4   H       1093 non-null   float64\n",
            " 5   VV      1093 non-null   float64\n",
            " 6   V       1093 non-null   float64\n",
            " 7   VM      1093 non-null   float64\n",
            " 8   PM 2.5  1092 non-null   float64\n",
            "dtypes: float64(9)\n",
            "memory usage: 77.0 KB\n",
            "None\n",
            "\n",
            "Missing Values:\n",
            "T         0\n",
            "TM        0\n",
            "Tm        0\n",
            "SLP       0\n",
            "H         0\n",
            "VV        0\n",
            "V         0\n",
            "VM        0\n",
            "PM 2.5    1\n",
            "dtype: int64\n",
            "\n",
            "Dataset Summary:\n",
            "                 T           TM           Tm          SLP            H  \\\n",
            "count  1093.000000  1093.000000  1093.000000  1093.000000  1093.000000   \n",
            "mean     26.009241    32.482251    19.460201  1008.081885    62.918573   \n",
            "std       7.237401     6.679078     7.438653     7.529237    15.709816   \n",
            "min       6.700000     9.800000     0.000000   991.500000    20.000000   \n",
            "25%      19.300000    27.800000    12.100000  1001.100000    54.000000   \n",
            "50%      28.200000    34.200000    21.200000  1008.100000    64.000000   \n",
            "75%      31.700000    37.000000    26.000000  1015.000000    74.000000   \n",
            "max      38.500000    45.500000    32.700000  1023.200000    98.000000   \n",
            "\n",
            "                VV            V           VM       PM 2.5  \n",
            "count  1093.000000  1093.000000  1093.000000  1092.000000  \n",
            "mean      2.003111     6.751510    15.805124   109.090984  \n",
            "std       0.747541     3.841137     7.308435    84.465790  \n",
            "min       0.300000     0.400000     1.900000     0.000000  \n",
            "25%       1.600000     3.700000    11.100000    41.833333  \n",
            "50%       1.900000     6.500000    14.800000    83.458333  \n",
            "75%       2.600000     9.100000    18.300000   158.291667  \n",
            "max       5.800000    24.400000    57.600000   404.500000  \n"
          ]
        }
      ]
    },
    {
      "cell_type": "code",
      "source": [
        "df.columns = df.columns.str.strip()\n",
        "print(\"Updated Column Names:\", df.columns)\n"
      ],
      "metadata": {
        "colab": {
          "base_uri": "https://localhost:8080/"
        },
        "id": "ogNYPpCc_eyS",
        "outputId": "988d68e0-1bec-41bb-e2c8-233eaddb1e17"
      },
      "execution_count": 5,
      "outputs": [
        {
          "output_type": "stream",
          "name": "stdout",
          "text": [
            "Updated Column Names: Index(['T', 'TM', 'Tm', 'SLP', 'H', 'VV', 'V', 'VM', 'PM 2.5'], dtype='object')\n"
          ]
        }
      ]
    },
    {
      "cell_type": "code",
      "source": [
        "df = df.dropna()\n",
        "print(f\"Dataset size after cleaning: {df.shape}\")\n"
      ],
      "metadata": {
        "colab": {
          "base_uri": "https://localhost:8080/"
        },
        "id": "_Cs4ofYJ_mEH",
        "outputId": "11d2e4d7-c4b6-4f9a-ba04-a000cc355135"
      },
      "execution_count": 6,
      "outputs": [
        {
          "output_type": "stream",
          "name": "stdout",
          "text": [
            "Dataset size after cleaning: (1092, 9)\n"
          ]
        }
      ]
    },
    {
      "cell_type": "code",
      "source": [
        "correlation = df.corr()\n",
        "print(correlation[\"PM 2.5\"].sort_values(ascending=False))\n",
        "selected_features = [\"T\", \"H\", \"VV\", \"V\", \"VM\"]\n",
        "target = \"PM 2.5\"\n",
        "X = df[selected_features]  # Features\n",
        "y = df[target]  # Target\n",
        "\n",
        "print(f\"Selected Features: {selected_features}\")\n"
      ],
      "metadata": {
        "colab": {
          "base_uri": "https://localhost:8080/"
        },
        "id": "c-WZ0dy4_p26",
        "outputId": "98c60beb-3aa7-4af5-c6bb-9edba960b159"
      },
      "execution_count": 25,
      "outputs": [
        {
          "output_type": "stream",
          "name": "stdout",
          "text": [
            "PM 2.5    1.000000\n",
            "SLP       0.623187\n",
            "H         0.138005\n",
            "VM       -0.215854\n",
            "V        -0.268530\n",
            "TM       -0.568409\n",
            "VV       -0.573941\n",
            "T        -0.631462\n",
            "Tm       -0.673824\n",
            "Name: PM 2.5, dtype: float64\n",
            "Selected Features: ['T', 'H', 'VV', 'V', 'VM']\n"
          ]
        }
      ]
    },
    {
      "cell_type": "code",
      "source": [
        "scaler = StandardScaler()\n",
        "X_scaled = scaler.fit_transform(X)\n",
        "\n",
        "\n",
        "X_train, X_test, y_train, y_test = train_test_split(X_scaled, y, test_size=0.2, random_state=42)\n",
        "\n",
        "print(f\"Training Data: {X_train.shape}, Test Data: {X_test.shape}\")\n"
      ],
      "metadata": {
        "colab": {
          "base_uri": "https://localhost:8080/"
        },
        "id": "gR8EVwiO_wu7",
        "outputId": "00d3f246-411e-4be3-edc4-42051eddcb33"
      },
      "execution_count": 26,
      "outputs": [
        {
          "output_type": "stream",
          "name": "stdout",
          "text": [
            "Training Data: (873, 5), Test Data: (219, 5)\n"
          ]
        }
      ]
    },
    {
      "cell_type": "code",
      "source": [
        "poly = PolynomialFeatures(degree=4)\n",
        "X_poly_train = poly.fit_transform(X_train)\n",
        "X_poly_test = poly.transform(X_test)\n",
        "poly_model = Ridge(alpha=1.0)\n",
        "poly_model.fit(X_poly_train, y_train)\n",
        "\n",
        "# Predictions\n",
        "y_pred_poly = poly_model.predict(X_poly_test)\n",
        "\n",
        "\n",
        "r2_poly = r2_score(y_test, y_pred_poly)\n",
        "print(f\"Polynomial Regression (Degree=4) R² Score: {r2_poly:.2f}\")\n"
      ],
      "metadata": {
        "colab": {
          "base_uri": "https://localhost:8080/"
        },
        "id": "vyMm3bYzABHx",
        "outputId": "b98cc26d-304e-4f11-e106-33f50d8e06ed"
      },
      "execution_count": 27,
      "outputs": [
        {
          "output_type": "stream",
          "name": "stdout",
          "text": [
            "Polynomial Regression (Degree=4) R² Score: 0.41\n"
          ]
        }
      ]
    },
    {
      "cell_type": "code",
      "source": [
        "param_grid = {\n",
        "    \"n_estimators\": [100, 200, 300],\n",
        "    \"max_depth\": [None, 10, 20],\n",
        "    \"min_samples_split\": [2, 5, 10]\n",
        "}\n",
        "\n",
        "grid_search = GridSearchCV(RandomForestRegressor(random_state=42), param_grid, cv=5, n_jobs=-1)\n",
        "grid_search.fit(X_train, y_train)\n",
        "\n",
        "best_rf = grid_search.best_estimator_\n",
        "y_pred_rf = best_rf.predict(X_test)\n",
        "\n",
        "r2_rf = r2_score(y_test, y_pred_rf)\n",
        "print(f\"Optimized Random Forest R² Score: {r2_rf:.2f}\")\n"
      ],
      "metadata": {
        "colab": {
          "base_uri": "https://localhost:8080/"
        },
        "id": "Af6t4_KPAE6Y",
        "outputId": "2daa0d86-ffec-4c37-fb71-5ae03e8d8f63"
      },
      "execution_count": 28,
      "outputs": [
        {
          "output_type": "stream",
          "name": "stdout",
          "text": [
            "Optimized Random Forest R² Score: 0.73\n"
          ]
        }
      ]
    },
    {
      "cell_type": "code",
      "source": [
        "xgb_model = GradientBoostingRegressor(n_estimators=300, learning_rate=0.05, max_depth=5, random_state=42)\n",
        "xgb_model.fit(X_train, y_train)\n",
        "\n",
        "y_pred_xgb = xgb_model.predict(X_test)\n",
        "\n",
        "r2_xgb = r2_score(y_test, y_pred_xgb)\n",
        "print(f\"Gradient Boosting (XGBoost) R² Score: {r2_xgb:.2f}\")"
      ],
      "metadata": {
        "colab": {
          "base_uri": "https://localhost:8080/"
        },
        "id": "von2svxRAGHI",
        "outputId": "e5380d95-3a31-4cae-9516-1971f07eb44f"
      },
      "execution_count": 31,
      "outputs": [
        {
          "output_type": "stream",
          "name": "stdout",
          "text": [
            "Gradient Boosting (XGBoost) R² Score: 0.77\n"
          ]
        }
      ]
    },
    {
      "cell_type": "code",
      "source": [
        "print(\"Model Performance Comparison:\")\n",
        "print(f\"Polynomial Regression (Degree=4) R² Score: {r2_poly:.2f}\")\n",
        "print(f\"Optimized Random Forest R² Score: {r2_rf:.2f}\")\n",
        "print(f\"Gradient Boosting (XGBoost) R² Score: {r2_xgb:.2f}\")\n"
      ],
      "metadata": {
        "colab": {
          "base_uri": "https://localhost:8080/"
        },
        "id": "h7Ju8putDlmf",
        "outputId": "4ec40f68-98eb-47be-dc84-0c106285f882"
      },
      "execution_count": 32,
      "outputs": [
        {
          "output_type": "stream",
          "name": "stdout",
          "text": [
            "Model Performance Comparison:\n",
            "Polynomial Regression (Degree=4) R² Score: 0.41\n",
            "Optimized Random Forest R² Score: 0.73\n",
            "Gradient Boosting (XGBoost) R² Score: 0.77\n"
          ]
        }
      ]
    },
    {
      "cell_type": "code",
      "source": [
        "plt.figure(figsize=(8,6))\n",
        "plt.scatter(y_test, y_pred_xgb, alpha=0.7, color=\"blue\", label=\"Predicted\")\n",
        "plt.plot([min(y_test), max(y_test)], [min(y_test), max(y_test)], color=\"red\", linestyle=\"--\", linewidth=2, label=\"Ideal Line\")\n",
        "plt.xlabel(\"Actual PM 2.5\")\n",
        "plt.ylabel(\"Predicted PM 2.5\")\n",
        "plt.title(\"Actual vs Predicted PM 2.5 (Gradient Boosting)\")\n",
        "plt.legend()\n",
        "plt.show()\n"
      ],
      "metadata": {
        "colab": {
          "base_uri": "https://localhost:8080/",
          "height": 564
        },
        "id": "JX2dDkOED5l8",
        "outputId": "64b3f378-5d5d-4923-a773-c1dada53255c"
      },
      "execution_count": 33,
      "outputs": [
        {
          "output_type": "display_data",
          "data": {
            "text/plain": [
              "<Figure size 800x600 with 1 Axes>"
            ],
            "image/png": "[encoded data removed]"
          },
          "metadata": {}
        }
      ]
    }
  ]
}